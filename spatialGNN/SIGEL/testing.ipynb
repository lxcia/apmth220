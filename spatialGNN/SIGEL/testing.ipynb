{
 "cells": [
  {
   "cell_type": "code",
   "execution_count": null,
   "metadata": {},
   "outputs": [
    {
     "name": "stderr",
     "output_type": "stream",
     "text": [
      "/home/kel331/.conda/envs/spatialgnn/lib/python3.11/site-packages/anndata-0.11.0rc3-py3.11.egg/anndata/utils.py:429: FutureWarning: Importing read_csv from `anndata` is deprecated. Import anndata.io.read_csv instead.\n",
      "  warnings.warn(msg, FutureWarning)\n",
      "/home/kel331/.conda/envs/spatialgnn/lib/python3.11/site-packages/anndata-0.11.0rc3-py3.11.egg/anndata/utils.py:429: FutureWarning: Importing read_excel from `anndata` is deprecated. Import anndata.io.read_excel instead.\n",
      "  warnings.warn(msg, FutureWarning)\n",
      "/home/kel331/.conda/envs/spatialgnn/lib/python3.11/site-packages/anndata-0.11.0rc3-py3.11.egg/anndata/utils.py:429: FutureWarning: Importing read_hdf from `anndata` is deprecated. Import anndata.io.read_hdf instead.\n",
      "  warnings.warn(msg, FutureWarning)\n",
      "/home/kel331/.conda/envs/spatialgnn/lib/python3.11/site-packages/anndata-0.11.0rc3-py3.11.egg/anndata/utils.py:429: FutureWarning: Importing read_loom from `anndata` is deprecated. Import anndata.io.read_loom instead.\n",
      "  warnings.warn(msg, FutureWarning)\n",
      "/home/kel331/.conda/envs/spatialgnn/lib/python3.11/site-packages/anndata-0.11.0rc3-py3.11.egg/anndata/utils.py:429: FutureWarning: Importing read_mtx from `anndata` is deprecated. Import anndata.io.read_mtx instead.\n",
      "  warnings.warn(msg, FutureWarning)\n",
      "/home/kel331/.conda/envs/spatialgnn/lib/python3.11/site-packages/anndata-0.11.0rc3-py3.11.egg/anndata/utils.py:429: FutureWarning: Importing read_text from `anndata` is deprecated. Import anndata.io.read_text instead.\n",
      "  warnings.warn(msg, FutureWarning)\n",
      "/home/kel331/.conda/envs/spatialgnn/lib/python3.11/site-packages/anndata-0.11.0rc3-py3.11.egg/anndata/utils.py:429: FutureWarning: Importing read_umi_tools from `anndata` is deprecated. Import anndata.io.read_umi_tools instead.\n",
      "  warnings.warn(msg, FutureWarning)\n",
      "/home/kel331/.conda/envs/spatialgnn/lib/python3.11/site-packages/anndata-0.11.0rc3-py3.11.egg/anndata/utils.py:429: FutureWarning: Importing read_csv from `anndata` is deprecated. Import anndata.io.read_csv instead.\n",
      "  warnings.warn(msg, FutureWarning)\n",
      "/home/kel331/.conda/envs/spatialgnn/lib/python3.11/site-packages/anndata-0.11.0rc3-py3.11.egg/anndata/utils.py:429: FutureWarning: Importing read_text from `anndata` is deprecated. Import anndata.io.read_text instead.\n",
      "  warnings.warn(msg, FutureWarning)\n",
      "/home/kel331/.conda/envs/spatialgnn/lib/python3.11/site-packages/anndata-0.11.0rc3-py3.11.egg/anndata/utils.py:429: FutureWarning: Importing read_mtx from `anndata` is deprecated. Import anndata.io.read_mtx instead.\n",
      "  warnings.warn(msg, FutureWarning)\n",
      "adata2image: 100%|██████████| 16060/16060 [06:43<00:00, 39.77gene/s] \n"
     ]
    }
   ],
   "source": [
    "from src.SIGEL_ETC.src.SIGEL_ETC import SIGEL_ETC\n",
    "adata = SIGEL_ETC.get_data(data='sqf', data_type='adata')\n",
    "adata, key_m, dataset_m = SIGEL_ETC.data_process(adata)\n",
    "#key_m, dataset_m = SIGEL_ETC.get_data(data='sqf', data_type='image')\n",
    "key_v, dataset_v = SIGEL_ETC.get_data(data='10x', data_type='image')"
   ]
  },
  {
   "cell_type": "code",
   "execution_count": null,
   "metadata": {},
   "outputs": [],
   "source": []
  }
 ],
 "metadata": {
  "kernelspec": {
   "display_name": "spatialgnn",
   "language": "python",
   "name": "python3"
  },
  "language_info": {
   "codemirror_mode": {
    "name": "ipython",
    "version": 3
   },
   "file_extension": ".py",
   "mimetype": "text/x-python",
   "name": "python",
   "nbconvert_exporter": "python",
   "pygments_lexer": "ipython3",
   "version": "3.11.10"
  }
 },
 "nbformat": 4,
 "nbformat_minor": 2
}
